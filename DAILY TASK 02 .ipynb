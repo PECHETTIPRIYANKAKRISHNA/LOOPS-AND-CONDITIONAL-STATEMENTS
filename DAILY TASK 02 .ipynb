{
 "cells": [
  {
   "cell_type": "raw",
   "id": "39c2daf8",
   "metadata": {},
   "source": [
    "Submit 2 examples for each module.\n",
    "1. while loop\n",
    "2. for loop\n",
    "3. if else\n",
    "4. if elif else\n",
    "5. user defined functions without for loop, if loop\n",
    "6. user defined functions with for loop\n",
    "7. user defined functions with for loop and if condition\n",
    "8. break\n",
    "9. continue\n",
    "10. for loop with in operator\n",
    "11. for loop with if statement \n",
    "12. for loop with not in operator\n",
    "13. if with in operator\n",
    "14. if with not in opearator"
   ]
  },
  {
   "cell_type": "markdown",
   "id": "b5ad4188",
   "metadata": {},
   "source": [
    "### 1. WHILE LOOP :  The while loop in Python is used to iterate over a block of code as long as the test expression (condition) is true."
   ]
  },
  {
   "cell_type": "code",
   "execution_count": 1,
   "id": "175d265c",
   "metadata": {},
   "outputs": [
    {
     "name": "stdout",
     "output_type": "stream",
     "text": [
      "ENTER A NUMBER: 10\n",
      "The multiples of number 10 are:\n",
      "10 * 1 = 10\n",
      "10 * 2 = 20\n",
      "10 * 3 = 30\n",
      "10 * 4 = 40\n",
      "10 * 5 = 50\n",
      "10 * 6 = 60\n",
      "10 * 7 = 70\n",
      "10 * 8 = 80\n",
      "10 * 9 = 90\n",
      "10 * 10 = 100\n"
     ]
    }
   ],
   "source": [
    "# 1.program to find multiples of a number\n",
    "n=int(input(\"ENTER A NUMBER: \"))\n",
    "\n",
    "i= 1\n",
    "print(\"The multiples of number\",n,\"are:\")\n",
    "while (i<=10):\n",
    "    print(n,\"*\",i,\"=\",(n*i))\n",
    "    i+=1\n",
    "    "
   ]
  },
  {
   "cell_type": "code",
   "execution_count": 2,
   "id": "32c5aa89",
   "metadata": {},
   "outputs": [
    {
     "name": "stdout",
     "output_type": "stream",
     "text": [
      "ENTER A NUMBER: 20\n",
      "The odd numbers till 20 are\n",
      "1\n",
      "3\n",
      "5\n",
      "7\n",
      "9\n",
      "11\n",
      "13\n",
      "15\n",
      "17\n",
      "19\n"
     ]
    }
   ],
   "source": [
    "# 2. Program to find odd number till n numbers\n",
    "\n",
    "n=int(input(\"ENTER A NUMBER: \"))\n",
    "print(\"The odd numbers till\" ,n ,\"are\")\n",
    "i=1\n",
    "while i<=n:\n",
    "    print(i)\n",
    "    i=i+2\n",
    "    "
   ]
  },
  {
   "cell_type": "markdown",
   "id": "ab361b81",
   "metadata": {},
   "source": [
    "### 2. FOR LOOP :The for loop in Python is used to iterate over a sequence  or other iterable objects. Iterating over a sequence is called traversal."
   ]
  },
  {
   "cell_type": "code",
   "execution_count": 3,
   "id": "9a4fec25",
   "metadata": {},
   "outputs": [
    {
     "name": "stdout",
     "output_type": "stream",
     "text": [
      "P\n",
      "R\n",
      "I\n",
      "Y\n",
      "A\n",
      "N\n",
      "K\n",
      "A\n",
      " \n",
      "K\n",
      "R\n",
      "I\n",
      "S\n",
      "H\n",
      "N\n",
      "A\n"
     ]
    }
   ],
   "source": [
    "# eg.01\n",
    "name = \"PRIYANKA KRISHNA\"\n",
    "\n",
    "for letter in name:\n",
    "    print(letter)"
   ]
  },
  {
   "cell_type": "code",
   "execution_count": 4,
   "id": "a27c24f4",
   "metadata": {},
   "outputs": [
    {
     "name": "stdout",
     "output_type": "stream",
     "text": [
      "The name of vegetable is: Potato\n",
      "The name of vegetable is: Carrot\n",
      "The name of vegetable is: Beans\n",
      "The name of vegetable is: Onion\n",
      "The name of vegetable is: Mirchi\n"
     ]
    }
   ],
   "source": [
    "#eg.02\n",
    "veggies=['Potato','Carrot','Beans',\"Onion\",\"Mirchi\"]\n",
    "\n",
    "for vegetables in veggies:\n",
    "    print(\"The name of vegetable is:\",vegetables)"
   ]
  },
  {
   "cell_type": "markdown",
   "id": "99c08598",
   "metadata": {},
   "source": [
    "### 3. if-else : \n",
    "\n",
    "The if..else statement evaluates test expression and will execute the body of if only when the test condition is True.\n",
    "\n",
    "If the condition is False, the body of else is executed. Indentation is used to separate the blocks."
   ]
  },
  {
   "cell_type": "code",
   "execution_count": 5,
   "id": "9aef0fbb",
   "metadata": {},
   "outputs": [
    {
     "name": "stdout",
     "output_type": "stream",
     "text": [
      "ENTER A NUMBER: 8\n",
      "ENTER A NUMBER: 20\n",
      "Hence 8 is less than 20\n"
     ]
    }
   ],
   "source": [
    "#1. Check wether the number is greater than or less than\n",
    "num1=int(input(\"ENTER A NUMBER: \"))\n",
    "num2=int(input(\"ENTER A NUMBER: \"))\n",
    "\n",
    "if num1 > num2:\n",
    "    print(\"Hence,\",num1,\"is greater than\",num2)\n",
    "else:\n",
    "    print(\"Hence\",num1,\"is less than\",num2)"
   ]
  },
  {
   "cell_type": "code",
   "execution_count": 6,
   "id": "776e0650",
   "metadata": {},
   "outputs": [
    {
     "name": "stdout",
     "output_type": "stream",
     "text": [
      "Enter your name:priya\n",
      "Enter your age:21\n",
      "Hello priya Your are eligible for voting\n"
     ]
    }
   ],
   "source": [
    "#2. checking wether eligible for voting based on age\n",
    "name=input(\"Enter your name:\")\n",
    "Age=int(input(\"Enter your age:\"))\n",
    "\n",
    "if Age<18:\n",
    "    print(Age,\"Your not eligible for voting\")\n",
    "else:\n",
    "    print(\"Hello\",name,\"Your are eligible for voting\")\n",
    "    "
   ]
  },
  {
   "cell_type": "markdown",
   "id": "13cffcfb",
   "metadata": {},
   "source": [
    "### 4. if elif else\n",
    "If the condition for if is False, it checks the condition of the next elif block and so on.\n",
    "\n",
    "If all the conditions are False, the body of else is executed."
   ]
  },
  {
   "cell_type": "code",
   "execution_count": 7,
   "id": "e305d3a4",
   "metadata": {},
   "outputs": [
    {
     "name": "stdout",
     "output_type": "stream",
     "text": [
      "Enter the marks:86\n",
      "Your qualification is Excellent\n"
     ]
    }
   ],
   "source": [
    "marks = int(input(\"Enter the marks:\"))\n",
    "\n",
    "if marks >= 90:\n",
    "    print(\"Your qualification is Outstanding \")\n",
    "elif marks>=80 and marks<90:\n",
    "    print(\"Your qualification is Excellent\")\n",
    "elif marks>=70 and marks<80:\n",
    "    print(\"Your qualification is Very Good\")\n",
    "elif marks>60 and marks<70:\n",
    "    print(\"Your qualification is Good\")\n",
    "else:\n",
    "    print(\"Need to improve\")"
   ]
  },
  {
   "cell_type": "code",
   "execution_count": 8,
   "id": "613b10db",
   "metadata": {},
   "outputs": [
    {
     "name": "stdout",
     "output_type": "stream",
     "text": [
      "Please enter your age:15\n",
      "The person should have completed his schooling\n"
     ]
    }
   ],
   "source": [
    "age= int(input(\"Please enter your age:\"))\n",
    "if age<5:\n",
    "    print(\"The person is still not eligible for schooling.\")\n",
    "elif age<15 and age>5:\n",
    "    print(\"The person should be pursuing his schooling.\")\n",
    "else:\n",
    "    print(\"The person should have completed his schooling\")"
   ]
  },
  {
   "cell_type": "markdown",
   "id": "40ac8781",
   "metadata": {},
   "source": [
    "### 5. user defined functions without for loop, if loop"
   ]
  },
  {
   "cell_type": "code",
   "execution_count": 9,
   "id": "0b98970d",
   "metadata": {},
   "outputs": [],
   "source": [
    "#1. defining an user defined function \n",
    "def welcome():\n",
    "    print(\"Welcome to our class:)\")\n",
    "    print(\"Thnakyou!!\")"
   ]
  },
  {
   "cell_type": "code",
   "execution_count": 10,
   "id": "640909b8",
   "metadata": {},
   "outputs": [
    {
     "name": "stdout",
     "output_type": "stream",
     "text": [
      "Welcome to our class:)\n",
      "Thnakyou!!\n"
     ]
    }
   ],
   "source": [
    "welcome()"
   ]
  },
  {
   "cell_type": "code",
   "execution_count": 11,
   "id": "126dc337",
   "metadata": {},
   "outputs": [],
   "source": [
    "#2. defining power of certain number\n",
    "\n",
    "def power(base,exponent):\n",
    "    output=(base**exponent)\n",
    "    return(output)"
   ]
  },
  {
   "cell_type": "code",
   "execution_count": 12,
   "id": "39647c3b",
   "metadata": {},
   "outputs": [
    {
     "data": {
      "text/plain": [
       "216"
      ]
     },
     "execution_count": 12,
     "metadata": {},
     "output_type": "execute_result"
    }
   ],
   "source": [
    "power(6,3)"
   ]
  },
  {
   "cell_type": "markdown",
   "id": "e54918af",
   "metadata": {},
   "source": [
    "### 6. user defined functions with for loop"
   ]
  },
  {
   "cell_type": "code",
   "execution_count": 13,
   "id": "64007369",
   "metadata": {},
   "outputs": [],
   "source": [
    "def user_name(name):\n",
    "    for i in name:\n",
    "        print(i)\n",
    "    return(\"Thankyou\")"
   ]
  },
  {
   "cell_type": "code",
   "execution_count": 14,
   "id": "edbf67f0",
   "metadata": {},
   "outputs": [
    {
     "name": "stdout",
     "output_type": "stream",
     "text": [
      "P\n",
      "R\n",
      "I\n",
      "Y\n",
      "A\n"
     ]
    },
    {
     "data": {
      "text/plain": [
       "'Thankyou'"
      ]
     },
     "execution_count": 14,
     "metadata": {},
     "output_type": "execute_result"
    }
   ],
   "source": [
    "user_name('PRIYA')"
   ]
  },
  {
   "cell_type": "code",
   "execution_count": 15,
   "id": "79a74a14",
   "metadata": {},
   "outputs": [],
   "source": [
    "def SQUARES_OF_NUMBERS():\n",
    "    for i in range(1,11):\n",
    "        print(i*i)\n",
    "    return(\"Thankyou\")"
   ]
  },
  {
   "cell_type": "code",
   "execution_count": 16,
   "id": "bba86be6",
   "metadata": {
    "scrolled": true
   },
   "outputs": [
    {
     "name": "stdout",
     "output_type": "stream",
     "text": [
      "1\n",
      "4\n",
      "9\n",
      "16\n",
      "25\n",
      "36\n",
      "49\n",
      "64\n",
      "81\n",
      "100\n"
     ]
    },
    {
     "data": {
      "text/plain": [
       "'Thankyou'"
      ]
     },
     "execution_count": 16,
     "metadata": {},
     "output_type": "execute_result"
    }
   ],
   "source": [
    "SQUARES_OF_NUMBERS()"
   ]
  },
  {
   "cell_type": "code",
   "execution_count": 17,
   "id": "222c482b",
   "metadata": {},
   "outputs": [],
   "source": [
    "def POWER_OF_NUMBERS():\n",
    "    for i in range(1,11):\n",
    "        print(i**i)\n",
    "    return(\"Thankyou\")"
   ]
  },
  {
   "cell_type": "code",
   "execution_count": 18,
   "id": "2a0d63b6",
   "metadata": {},
   "outputs": [
    {
     "name": "stdout",
     "output_type": "stream",
     "text": [
      "1\n",
      "4\n",
      "27\n",
      "256\n",
      "3125\n",
      "46656\n",
      "823543\n",
      "16777216\n",
      "387420489\n",
      "10000000000\n"
     ]
    },
    {
     "data": {
      "text/plain": [
       "'Thankyou'"
      ]
     },
     "execution_count": 18,
     "metadata": {},
     "output_type": "execute_result"
    }
   ],
   "source": [
    "POWER_OF_NUMBERS()"
   ]
  },
  {
   "cell_type": "markdown",
   "id": "e55b7df6",
   "metadata": {},
   "source": [
    "### 7. user defined functions with for loop and if condition"
   ]
  },
  {
   "cell_type": "code",
   "execution_count": 19,
   "id": "7a38432f",
   "metadata": {},
   "outputs": [],
   "source": [
    "def user_input():\n",
    "    for i in range(1,11):\n",
    "        if i%2==0:\n",
    "            print(\"user input\",i,\" is divisible by 2\")\n",
    "        else:\n",
    "            print(\"user input\",i,\" is not divisible by 2\")\n",
    "        \n",
    "        "
   ]
  },
  {
   "cell_type": "code",
   "execution_count": 20,
   "id": "3e935c5d",
   "metadata": {},
   "outputs": [
    {
     "name": "stdout",
     "output_type": "stream",
     "text": [
      "user input 1  is not divisible by 2\n",
      "user input 2  is divisible by 2\n",
      "user input 3  is not divisible by 2\n",
      "user input 4  is divisible by 2\n",
      "user input 5  is not divisible by 2\n",
      "user input 6  is divisible by 2\n",
      "user input 7  is not divisible by 2\n",
      "user input 8  is divisible by 2\n",
      "user input 9  is not divisible by 2\n",
      "user input 10  is divisible by 2\n"
     ]
    }
   ],
   "source": [
    "user_input()"
   ]
  },
  {
   "cell_type": "code",
   "execution_count": 21,
   "id": "7e88a6d2",
   "metadata": {},
   "outputs": [
    {
     "name": "stdout",
     "output_type": "stream",
     "text": [
      "Enter the sentence:data science is upcoming future\n",
      "THE NO.OF VOWELS IN SENTENCE ARE:  12\n"
     ]
    }
   ],
   "source": [
    "sentence = input(\"Enter the sentence:\")\n",
    "def vowels(sentence):\n",
    "    length=len(sentence)\n",
    "    count=0\n",
    "    for i in range(length):\n",
    "        if (sentence[i].lower() in ['a','e','i','o','u']):\n",
    "            count=count+1\n",
    "    print(\"THE NO.OF VOWELS IN SENTENCE ARE: \",count)   \n",
    "vowels(sentence)\n",
    "                \n",
    "#DATA SCIENCE IS UPCOMING FUTURE       "
   ]
  },
  {
   "cell_type": "markdown",
   "id": "d8d2733e",
   "metadata": {},
   "source": [
    "### 8.BREAK "
   ]
  },
  {
   "cell_type": "code",
   "execution_count": 22,
   "id": "58830d1a",
   "metadata": {},
   "outputs": [
    {
     "name": "stdout",
     "output_type": "stream",
     "text": [
      "h\n",
      "e\n",
      "y\n",
      " \n",
      "b\n",
      "u\n",
      "d\n",
      "d\n",
      "The end\n"
     ]
    }
   ],
   "source": [
    "for letter in \"hey buddies\":\n",
    "    if letter == \"i\":\n",
    "        break\n",
    "    print(letter)\n",
    "\n",
    "print(\"The end\")"
   ]
  },
  {
   "cell_type": "code",
   "execution_count": 23,
   "id": "738baab5",
   "metadata": {},
   "outputs": [
    {
     "name": "stdout",
     "output_type": "stream",
     "text": [
      "1\n",
      "2\n",
      "3\n",
      "4\n",
      "5\n",
      "6\n",
      "7\n",
      "8\n",
      "9\n",
      "10\n",
      "11\n",
      "12\n",
      "13\n",
      "14\n",
      "15\n",
      "16\n",
      "17\n",
      "18\n",
      "19\n",
      "20\n",
      "21\n",
      "22\n",
      "23\n",
      "24\n",
      "25\n",
      "26\n",
      "The end\n"
     ]
    }
   ],
   "source": [
    "for num in range(1,30):\n",
    "    if num == 27:\n",
    "        break\n",
    "    print(num)\n",
    "\n",
    "print(\"The end\")"
   ]
  },
  {
   "cell_type": "markdown",
   "id": "8e35dd22",
   "metadata": {},
   "source": [
    "### 9. CONTINUE\n",
    "\n",
    "The continue statement is used to skip the rest of the code inside a loop for the current iteration only. Loop does not terminate but continues on with the next iteration."
   ]
  },
  {
   "cell_type": "code",
   "execution_count": 24,
   "id": "4d9d483d",
   "metadata": {},
   "outputs": [
    {
     "name": "stdout",
     "output_type": "stream",
     "text": [
      "D\n",
      "A\n",
      "T\n",
      "A\n",
      "B\n",
      "A\n",
      "S\n",
      " \n",
      "S\n",
      "Y\n",
      "S\n",
      "T\n",
      "M\n",
      "The end\n"
     ]
    }
   ],
   "source": [
    "for i in \"DATABASE SYSTEM\":\n",
    "    if i == \"E\":\n",
    "        continue\n",
    "    print(i)\n",
    "\n",
    "print(\"The end\")"
   ]
  },
  {
   "cell_type": "code",
   "execution_count": 25,
   "id": "083e18d7",
   "metadata": {},
   "outputs": [
    {
     "name": "stdout",
     "output_type": "stream",
     "text": [
      "6\n"
     ]
    }
   ],
   "source": [
    "for i in range(1,10):\n",
    "    if i%2 or i%3:\n",
    "        continue\n",
    "    print(i)    "
   ]
  },
  {
   "cell_type": "code",
   "execution_count": 26,
   "id": "90622de2",
   "metadata": {},
   "outputs": [
    {
     "name": "stdout",
     "output_type": "stream",
     "text": [
      "2\n",
      "3\n",
      "4\n",
      "6\n",
      "8\n",
      "9\n"
     ]
    }
   ],
   "source": [
    "for i in range(1,10):\n",
    "    if i%2 and i%3:\n",
    "        continue\n",
    "    print(i)"
   ]
  },
  {
   "cell_type": "markdown",
   "id": "62404bef",
   "metadata": {},
   "source": [
    "### 10. for loop with in operator"
   ]
  },
  {
   "cell_type": "code",
   "execution_count": 27,
   "id": "aa33ffcd",
   "metadata": {},
   "outputs": [
    {
     "name": "stdout",
     "output_type": "stream",
     "text": [
      "1\n",
      "2\n",
      "3\n",
      "4\n",
      "5\n",
      "6\n",
      "7\n",
      "8\n",
      "9\n",
      "10\n",
      "11\n",
      "12\n",
      "13\n",
      "14\n"
     ]
    }
   ],
   "source": [
    "for i in range(1,15):\n",
    "    print(i)\n"
   ]
  },
  {
   "cell_type": "code",
   "execution_count": 28,
   "id": "9f14a7ef",
   "metadata": {},
   "outputs": [
    {
     "name": "stdout",
     "output_type": "stream",
     "text": [
      "r\n",
      "a\n",
      "m\n",
      "a\n"
     ]
    }
   ],
   "source": [
    "for i in \"rama\":\n",
    "    print(i)\n"
   ]
  },
  {
   "cell_type": "markdown",
   "id": "6076e760",
   "metadata": {},
   "source": [
    "### 11. for loop with if statement \n",
    " "
   ]
  },
  {
   "cell_type": "code",
   "execution_count": 29,
   "id": "eeeff161",
   "metadata": {},
   "outputs": [
    {
     "name": "stdout",
     "output_type": "stream",
     "text": [
      "0\n",
      "3\n",
      "6\n",
      "9\n",
      "12\n",
      "15\n",
      "18\n",
      "21\n",
      "24\n",
      "27\n",
      "30\n",
      "33\n",
      "36\n",
      "39\n",
      "42\n",
      "45\n",
      "48\n"
     ]
    }
   ],
   "source": [
    "for i in range(0,50):\n",
    "    if i%3==0:\n",
    "        print(i)"
   ]
  },
  {
   "cell_type": "code",
   "execution_count": 30,
   "id": "48e837f9",
   "metadata": {},
   "outputs": [
    {
     "name": "stdout",
     "output_type": "stream",
     "text": [
      "letter is not A\n",
      "letter is not A\n",
      "letter is not A\n",
      "letter is not A\n",
      "letter is not A\n",
      "letter is not A\n",
      "letter is not A\n",
      "A is found\n",
      "letter is not A\n"
     ]
    }
   ],
   "source": [
    "for letter in \"SUPERSTAR\":\n",
    "    if letter=='A':\n",
    "        print(\"A is found\")\n",
    "    else:\n",
    "        print(\"letter is not A\")\n"
   ]
  },
  {
   "cell_type": "markdown",
   "id": "10580762",
   "metadata": {},
   "source": [
    "### 12. for loop with not in operator"
   ]
  },
  {
   "cell_type": "code",
   "execution_count": 31,
   "id": "5f8990d8",
   "metadata": {},
   "outputs": [
    {
     "name": "stdout",
     "output_type": "stream",
     "text": [
      "False\n",
      "False\n",
      "False\n",
      "False\n",
      "False\n",
      "False\n",
      "False\n",
      "False\n",
      "False\n",
      "False\n"
     ]
    }
   ],
   "source": [
    "quote=(\"DON'T\",\"WAIT\",\"FOR\",\"THE\",\"DOOR\",\"TO\",\"OPEN\",\"KICK\",\"IT\" ,\"DOWN\")\n",
    "\n",
    "for i in quote:\n",
    "    print(\"THE\" not in quote)\n",
    "    \n",
    "    \n",
    "    "
   ]
  },
  {
   "cell_type": "code",
   "execution_count": 32,
   "id": "b0022e9c",
   "metadata": {},
   "outputs": [
    {
     "name": "stdout",
     "output_type": "stream",
     "text": [
      "True\n",
      "True\n",
      "True\n"
     ]
    }
   ],
   "source": [
    "colors=(\"red\",'orange','green')\n",
    "for i in colors:\n",
    "    print(\"blue\" not in colors)"
   ]
  },
  {
   "cell_type": "markdown",
   "id": "a51586f8",
   "metadata": {},
   "source": [
    "### 13. if with in operator"
   ]
  },
  {
   "cell_type": "code",
   "execution_count": 33,
   "id": "9ebfc8ba",
   "metadata": {},
   "outputs": [
    {
     "name": "stdout",
     "output_type": "stream",
     "text": [
      " chutki in the names list\n"
     ]
    }
   ],
   "source": [
    "names=[\"marwel\",'don','raju','chutki']\n",
    "\n",
    "if \"chutki\"  in names:\n",
    "    print(\" chutki in the names list\")"
   ]
  },
  {
   "cell_type": "markdown",
   "id": "f50d7415",
   "metadata": {},
   "source": [
    "### 14. if with not in opearator"
   ]
  },
  {
   "cell_type": "code",
   "execution_count": 34,
   "id": "e85b3ae6",
   "metadata": {},
   "outputs": [
    {
     "name": "stdout",
     "output_type": "stream",
     "text": [
      " bean not in the names list\n"
     ]
    }
   ],
   "source": [
    "names=[\"marwel\",'don','raju','chutki']\n",
    "\n",
    "if \"bean\" not in names:\n",
    "    print(\" bean not in the names list\")"
   ]
  },
  {
   "cell_type": "code",
   "execution_count": null,
   "id": "1787d98c",
   "metadata": {},
   "outputs": [],
   "source": []
  }
 ],
 "metadata": {
  "kernelspec": {
   "display_name": "Python 3 (ipykernel)",
   "language": "python",
   "name": "python3"
  },
  "language_info": {
   "codemirror_mode": {
    "name": "ipython",
    "version": 3
   },
   "file_extension": ".py",
   "mimetype": "text/x-python",
   "name": "python",
   "nbconvert_exporter": "python",
   "pygments_lexer": "ipython3",
   "version": "3.9.7"
  }
 },
 "nbformat": 4,
 "nbformat_minor": 5
}
